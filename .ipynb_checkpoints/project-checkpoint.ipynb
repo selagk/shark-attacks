{
 "cells": [
  {
   "cell_type": "markdown",
   "id": "b67f926e",
   "metadata": {},
   "source": [
    "# Linear Regression\n",
    "Implement a linear regression model to predict upcoming shark attacks using data from the shark attack dataset at https://www.kaggle.com/teajay/global-shark-attacks."
   ]
  },
  {
   "cell_type": "markdown",
   "id": "bbe88e12",
   "metadata": {},
   "source": [
    "Collaborators:\n",
    "1. Srujana Devulapally\n",
    "2. Jayesh Kaushik\n",
    "3. Sela Grace Koshy"
   ]
  },
  {
   "cell_type": "markdown",
   "id": "ff74177d",
   "metadata": {},
   "source": [
    "1. First, you'll need to import the necessary libraries and load the dataset into a Pandas dataframe:"
   ]
  },
  {
   "cell_type": "code",
   "execution_count": 1,
   "id": "4e0a5bd5",
   "metadata": {},
   "outputs": [],
   "source": [
    "import pandas as pd\n",
    "import numpy as np\n",
    "import matplotlib.pyplot as plt\n",
    "\n",
    "# Load the dataset into a Pandas dataframe\n",
    "shark_attacks_df = pd.read_csv('shark_attacks.csv')"
   ]
  },
  {
   "cell_type": "markdown",
   "id": "f66c9fd9",
   "metadata": {},
   "source": [
    "2. Preprocess the data by dropping irrelevant columns, handling missing values, and converting categorical variables to numerical variables as needed."
   ]
  },
  {
   "cell_type": "code",
   "execution_count": 2,
   "id": "146ac098",
   "metadata": {},
   "outputs": [],
   "source": [
    "# Remove the inplace=True parameter and assign the result to a new variable\n",
    "shark_attacks_df_clean = shark_attacks_df.dropna()\n",
    "\n",
    "# Drop unnecessary columns\n",
    "shark_attacks_df.drop(['Case Number', 'Date', 'Year', 'Type', 'Country', 'Area', 'Location', 'Name', 'Injury', 'Time', 'Species', 'Investigator or Source'], axis=1, inplace=True)\n",
    "\n",
    "# Convert categorical variables to numerical ones\n",
    "shark_attacks_df['Sex'] = shark_attacks_df['Sex'].map({'M': 1, 'F': 0})\n",
    "shark_attacks_df['Fatal (Y/N)'] = shark_attacks_df['Fatal (Y/N)'].map({'Y': 1, 'N': 0})\n",
    "\n",
    "# insert the 'Attacks' column into the DataFrame\n",
    "shark_attacks_df.insert(0, 'Attacks', shark_attacks_df['Fatal (Y/N)'].apply(lambda x: 1 if x == 'Y' else 0))\n",
    "\n",
    "shark_attacks_df.dropna(inplace=True)"
   ]
  },
  {
   "cell_type": "markdown",
   "id": "650e746f",
   "metadata": {},
   "source": [
    "3. Split the dataset into training and testing sets:"
   ]
  },
  {
   "cell_type": "code",
   "execution_count": 3,
   "id": "4bff0708",
   "metadata": {},
   "outputs": [],
   "source": [
    "# split the data into training and testing sets\n",
    "train_size = int(len(shark_attacks_df) * 0.7)\n",
    "train_set = shark_attacks_df[:train_size]\n",
    "test_set = shark_attacks_df[train_size:]"
   ]
  },
  {
   "cell_type": "markdown",
   "id": "b2ef68cd",
   "metadata": {},
   "source": [
    "4. Define the feature matrix X and target vector y for both the training and testing sets:"
   ]
  },
  {
   "cell_type": "code",
   "execution_count": 4,
   "id": "dfc4e098",
   "metadata": {},
   "outputs": [],
   "source": [
    "# define the feature matrix X and target vector y for both training and testing sets\n",
    "X_train = np.c_[np.ones((len(train_set), 1)), train_set.drop(['Attacks'], axis=1)]\n",
    "y_train = np.array(train_set['Attacks']).reshape(-1, 1)\n",
    "X_test = np.c_[np.ones((len(test_set), 1)), test_set.drop(['Attacks'], axis=1)]\n",
    "y_test = np.array(test_set['Attacks']).reshape(-1, 1)\n"
   ]
  },
  {
   "cell_type": "markdown",
   "id": "0f92af0a",
   "metadata": {},
   "source": [
    "5. Implement the normal equation method to solve for the optimal values of theta:"
   ]
  },
  {
   "cell_type": "code",
   "execution_count": 12,
   "id": "d86511f9",
   "metadata": {
    "scrolled": true
   },
   "outputs": [],
   "source": [
    "# implement the normal equation method\n",
    "X_train = X_train.astype('float64')\n",
    "theta = np.linalg.pinv(X_train.T.dot(X_train)).dot(X_train.T).dot(y_train)\n",
    "\n",
    "#theta = np.linalg.inv(X_train.T.dot(X_train)).dot(X_train.T).dot(y_train)"
   ]
  },
  {
   "cell_type": "markdown",
   "id": "65378b21",
   "metadata": {},
   "source": [
    "6. Use the trained model to make predictions on the testing set:"
   ]
  },
  {
   "cell_type": "code",
   "execution_count": 13,
   "id": "7c5ae828",
   "metadata": {},
   "outputs": [],
   "source": [
    "# use the trained model to make predictions on the testing set\n",
    "y_pred = X_test.dot(theta)"
   ]
  },
  {
   "cell_type": "markdown",
   "id": "ab472697",
   "metadata": {},
   "source": [
    "7. Calculate the root mean squared error (RMSE) to evaluate the performance of the model:"
   ]
  },
  {
   "cell_type": "code",
   "execution_count": 15,
   "id": "db59a3b1",
   "metadata": {},
   "outputs": [
    {
     "name": "stdout",
     "output_type": "stream",
     "text": [
      "RMSE: nan\n"
     ]
    }
   ],
   "source": [
    "# calculate the root mean squared error (RMSE)\n",
    "rmse = np.sqrt(np.mean((y_test - y_pred) ** 2))\n",
    "print(f'RMSE: {rmse}')"
   ]
  },
  {
   "cell_type": "code",
   "execution_count": null,
   "id": "86b5e8ca",
   "metadata": {},
   "outputs": [],
   "source": []
  }
 ],
 "metadata": {
  "kernelspec": {
   "display_name": "Python 3 (ipykernel)",
   "language": "python",
   "name": "python3"
  },
  "language_info": {
   "codemirror_mode": {
    "name": "ipython",
    "version": 3
   },
   "file_extension": ".py",
   "mimetype": "text/x-python",
   "name": "python",
   "nbconvert_exporter": "python",
   "pygments_lexer": "ipython3",
   "version": "3.10.9"
  }
 },
 "nbformat": 4,
 "nbformat_minor": 5
}
